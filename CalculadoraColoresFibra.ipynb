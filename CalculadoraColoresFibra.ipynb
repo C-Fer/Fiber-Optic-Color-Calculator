{
  "nbformat": 4,
  "nbformat_minor": 0,
  "metadata": {
    "colab": {
      "name": "CalculadoraColoresFibra.ipynb",
      "provenance": [],
      "include_colab_link": true
    },
    "kernelspec": {
      "name": "python3",
      "display_name": "Python 3"
    },
    "language_info": {
      "name": "python"
    }
  },
  "cells": [
    {
      "cell_type": "markdown",
      "metadata": {
        "id": "view-in-github",
        "colab_type": "text"
      },
      "source": [
        "<a href=\"https://colab.research.google.com/github/C-Fer/Fiber-Optic-Color-Calculator/blob/main/CalculadoraColoresFibra.ipynb\" target=\"_parent\"><img src=\"https://colab.research.google.com/assets/colab-badge.svg\" alt=\"Open In Colab\"/></a>"
      ]
    },
    {
      "cell_type": "markdown",
      "metadata": {
        "id": "o63gappJQUeU"
      },
      "source": [
        "![picture](https://cdn.discordapp.com/attachments/763102839651565630/891298922969038858/desktop_434b8361-6370-4b6b-af02-8e090e6ccc4b.png)\n",
        "\n"
      ]
    },
    {
      "cell_type": "markdown",
      "metadata": {
        "id": "vhLel7tMNNzR"
      },
      "source": [
        "## ***Lista de los colores de la fibra***"
      ]
    },
    {
      "cell_type": "code",
      "metadata": {
        "id": "N08okoFKNJmg"
      },
      "source": [
        "HILOS = ['Azul', 'Naranja', 'Verde', 'Marron', 'Gris', 'Blanco', 'Rojo', 'Negro', 'Amarillo', 'Violeta', 'Rosado', 'Celeste',\n",
        "'Azul/negro', 'Naranja/Negro', 'Verde/negro', 'Marron/negro', 'Gris/Negro', 'Blanco/Negro', 'Rojo/Negro', 'Negro/Amarillo',\n",
        "'Amarillo/negro','Violeta/Negro', 'Rosado/Negro', 'Celeste/Negro']"
      ],
      "execution_count": null,
      "outputs": []
    },
    {
      "cell_type": "markdown",
      "metadata": {
        "id": "DGfONgJjNUTt"
      },
      "source": [
        "**Operaciones**"
      ]
    },
    {
      "cell_type": "code",
      "metadata": {
        "colab": {
          "base_uri": "https://localhost:8080/"
        },
        "id": "HT4PhPhENNGW",
        "outputId": "fbe15555-b5de-47d8-95f8-d9cb3ba5f2dd"
      },
      "source": [
        "hilos=int(input(\"CANTIDAD DE HILOS DE LA FIBRA:  \"))\n",
        "cantidad_buffer= int(input(\"CANTIDAD DE BUFFER: \"))\n",
        "hilos_buffer=int(hilos/cantidad_buffer)\n",
        "hilo=int(input(\"INGRESE HILO A CALCULAR: \"))\n",
        "color_buffer=int(hilo/hilos_buffer)\n",
        "color_hilo=abs(((hilos_buffer*color_buffer)-hilo)-hilos_buffer)\n",
        "color_hilo1=abs(((hilos_buffer*(color_buffer+1))-hilo)-hilos_buffer)\n",
        "residuo=hilo%hilos_buffer"
      ],
      "execution_count": null,
      "outputs": [
        {
          "name": "stdout",
          "output_type": "stream",
          "text": [
            "CANTIDAD DE HILOS DE LA FIBRA:  72\n",
            "CANTIDAD DE BUFFER: 8\n",
            "INGRESE HILO A CALCULAR: 35\n"
          ]
        }
      ]
    },
    {
      "cell_type": "markdown",
      "metadata": {
        "id": "4K87pxBaNtz3"
      },
      "source": [
        "# ***Resultados***"
      ]
    },
    {
      "cell_type": "code",
      "metadata": {
        "colab": {
          "base_uri": "https://localhost:8080/"
        },
        "id": "XjFjVGnLNnSQ",
        "outputId": "4c690a2f-5d00-4315-87e4-bfe3c3d6f649"
      },
      "source": [
        "print (\"EL HILO: \", hilo, \"TIENE: \")\n",
        "\n",
        "if residuo==0: \n",
        "    print (\"BUFFER: \",(HILOS[color_buffer-1]))\n",
        "    print (\"HILO: \",(HILOS[color_hilo-1]))\n",
        "else:\n",
        "    print (\"BUFFER: \",HILOS[color_buffer])\n",
        "    print (\"HILO: \",HILOS[color_hilo1-1])"
      ],
      "execution_count": null,
      "outputs": [
        {
          "output_type": "stream",
          "name": "stdout",
          "text": [
            "EL HILO:  35 TIENE: \n",
            "BUFFER:  Marron\n",
            "HILO:  Negro\n"
          ]
        }
      ]
    }
  ]
}